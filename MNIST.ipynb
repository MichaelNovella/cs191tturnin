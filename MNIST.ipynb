{
  "nbformat": 4,
  "nbformat_minor": 0,
  "metadata": {
    "colab": {
      "name": "MNIST.ipynb",
      "provenance": [],
      "mount_file_id": "1_qA4VQK-3Q77HrtDZvLC6Pg3jxaL88wq",
      "authorship_tag": "ABX9TyMi227eFijJ/vZLzlkiVyDL",
      "include_colab_link": true
    },
    "kernelspec": {
      "name": "python3",
      "display_name": "Python 3"
    },
    "language_info": {
      "name": "python"
    }
  },
  "cells": [
    {
      "cell_type": "markdown",
      "metadata": {
        "id": "view-in-github",
        "colab_type": "text"
      },
      "source": [
        "<a href=\"https://colab.research.google.com/github/MichaelNovella/cs191tturnin/blob/main/MNIST.ipynb\" target=\"_parent\"><img src=\"https://colab.research.google.com/assets/colab-badge.svg\" alt=\"Open In Colab\"/></a>"
      ]
    },
    {
      "cell_type": "markdown",
      "metadata": {
        "id": "zRKS-oR8zHbR"
      },
      "source": [
        "#MNIST\n",
        "This is a program that will work with the MNIST dataset using logistic regression and mlp classifier. The first thing to do is call some libraries to work with the reduction and regression. So first we need to call on some libraries to work with."
      ]
    },
    {
      "cell_type": "code",
      "metadata": {
        "id": "xZSjv1BIeleP"
      },
      "source": [
        "import numpy as np\n",
        "import matplotlib.pyplot as plt\n",
        "\n",
        "import pandas as pd\n",
        "\n",
        "\n",
        "from sklearn import datasets\n",
        "\n",
        "from sklearn.linear_model import LogisticRegression\n",
        "from sklearn.neural_network import MLPClassifier\n",
        "from sklearn.metrics import accuracy_score"
      ],
      "execution_count": 2,
      "outputs": []
    },
    {
      "cell_type": "markdown",
      "metadata": {
        "id": "7ICyZ1f3Tld4"
      },
      "source": [
        "Here we load in our dataset provided by kaggle into a dataframe and display the columns of the first row."
      ]
    },
    {
      "cell_type": "code",
      "metadata": {
        "colab": {
          "base_uri": "https://localhost:8080/"
        },
        "id": "-HK8_RBSzncR",
        "outputId": "38b8723c-f239-45f2-c295-885912acde2e"
      },
      "source": [
        "mnist = pd.read_csv('drive/MyDrive/MnistTrain.csv')\n",
        "data = mnist.values\n",
        "print(data.shape)\n",
        "print (data[1,1:])"
      ],
      "execution_count": 2,
      "outputs": [
        {
          "output_type": "stream",
          "name": "stdout",
          "text": [
            "(42000, 785)\n",
            "[  0   0   0   0   0   0   0   0   0   0   0   0   0   0   0   0   0   0\n",
            "   0   0   0   0   0   0   0   0   0   0   0   0   0   0   0   0   0   0\n",
            "   0   0   0   0   0   0   0   0   0   0   0   0   0   0   0   0   0   0\n",
            "   0   0   0   0   0   0   0   0   0   0   0   0   0   0   0   0   0   0\n",
            "   0   0   0   0   0   0   0   0   0   0   0   0   0   0   0   0   0   0\n",
            "   0   0   0   0   0   0   0   0   0   0   0   0   0   0   0   0   0   0\n",
            "   0   0   0   0   0   0   0   0   0   0   0   0   0   0  18  30 137 137\n",
            " 192  86  72   1   0   0   0   0   0   0   0   0   0   0   0   0   0   0\n",
            "   0   0   0   0  13  86 250 254 254 254 254 217 246 151  32   0   0   0\n",
            "   0   0   0   0   0   0   0   0   0   0   0   0   0  16 179 254 254 254\n",
            " 254 254 254 254 254 254 231  54  15   0   0   0   0   0   0   0   0   0\n",
            "   0   0   0   0   0  72 254 254 254 254 254 254 254 254 254 254 254 254\n",
            " 104   0   0   0   0   0   0   0   0   0   0   0   0   0  61 191 254 254\n",
            " 254 254 254 109  83 199 254 254 254 254 243  85   0   0   0   0   0   0\n",
            "   0   0   0   0   0   0 172 254 254 254 202 147 147  45   0  11  29 200\n",
            " 254 254 254 171   0   0   0   0   0   0   0   0   0   0   0   1 174 254\n",
            " 254  89  67   0   0   0   0   0   0 128 252 254 254 212  76   0   0   0\n",
            "   0   0   0   0   0   0   0  47 254 254 254  29   0   0   0   0   0   0\n",
            "   0   0  83 254 254 254 153   0   0   0   0   0   0   0   0   0   0  80\n",
            " 254 254 240  24   0   0   0   0   0   0   0   0  25 240 254 254 153   0\n",
            "   0   0   0   0   0   0   0   0   0  64 254 254 186   7   0   0   0   0\n",
            "   0   0   0   0   0 166 254 254 224  12   0   0   0   0   0   0   0   0\n",
            "  14 232 254 254 254  29   0   0   0   0   0   0   0   0   0  75 254 254\n",
            " 254  17   0   0   0   0   0   0   0   0  18 254 254 254 254  29   0   0\n",
            "   0   0   0   0   0   0   0  48 254 254 254  17   0   0   0   0   0   0\n",
            "   0   0   2 163 254 254 254  29   0   0   0   0   0   0   0   0   0  48\n",
            " 254 254 254  17   0   0   0   0   0   0   0   0   0  94 254 254 254 200\n",
            "  12   0   0   0   0   0   0   0  16 209 254 254 150   1   0   0   0   0\n",
            "   0   0   0   0   0  15 206 254 254 254 202  66   0   0   0   0   0  21\n",
            " 161 254 254 245  31   0   0   0   0   0   0   0   0   0   0   0  60 212\n",
            " 254 254 254 194  48  48  34  41  48 209 254 254 254 171   0   0   0   0\n",
            "   0   0   0   0   0   0   0   0   0  86 243 254 254 254 254 254 233 243\n",
            " 254 254 254 254 254  86   0   0   0   0   0   0   0   0   0   0   0   0\n",
            "   0   0 114 254 254 254 254 254 254 254 254 254 254 239  86  11   0   0\n",
            "   0   0   0   0   0   0   0   0   0   0   0   0  13 182 254 254 254 254\n",
            " 254 254 254 254 243  70   0   0   0   0   0   0   0   0   0   0   0   0\n",
            "   0   0   0   0   0   8  76 146 254 255 254 255 146  19  15   0   0   0\n",
            "   0   0   0   0   0   0   0   0   0   0   0   0   0   0   0   0   0   0\n",
            "   0   0   0   0   0   0   0   0   0   0   0   0   0   0   0   0   0   0\n",
            "   0   0   0   0   0   0   0   0   0   0   0   0   0   0   0   0   0   0\n",
            "   0   0   0   0   0   0   0   0   0   0   0   0   0   0   0   0   0   0\n",
            "   0   0   0   0   0   0   0   0   0   0   0   0   0   0   0   0   0   0\n",
            "   0   0   0   0   0   0   0   0   0   0   0   0   0   0   0   0   0   0\n",
            "   0   0   0   0   0   0   0   0   0   0]\n"
          ]
        }
      ]
    },
    {
      "cell_type": "markdown",
      "metadata": {
        "id": "2MtzTb9OTwrw"
      },
      "source": [
        "Here we print the first number that the first row represents into a 28x28 pixel grid. This also includes a histogram of which labels are most predominate."
      ]
    },
    {
      "cell_type": "code",
      "metadata": {
        "colab": {
          "base_uri": "https://localhost:8080/",
          "height": 875
        },
        "id": "HD3CJVtG1VZ1",
        "outputId": "54f6c2ae-9217-4281-c9dd-d9c54d0d76e8"
      },
      "source": [
        "\n",
        "\n",
        "# print one number\n",
        "myNumber = data[1,1:]\n",
        "print (myNumber[:5])\n",
        "myNumber=myNumber.reshape((28,28))\n",
        "plt.imshow(myNumber, cmap = plt.cm.binary,\n",
        "           interpolation=\"nearest\")\n",
        "plt.axis(\"off\")\n",
        "plt.show()\n",
        "mnist['label'].hist()\n",
        "plt.show()\n",
        "print(mnist.columns)\n",
        "plt.hist(data[:,0])\n",
        "plt.show()\n",
        "\n"
      ],
      "execution_count": null,
      "outputs": [
        {
          "output_type": "stream",
          "name": "stdout",
          "text": [
            "[0 0 0 0 0]\n"
          ]
        },
        {
          "output_type": "display_data",
          "data": {
            "image/png": "[encoded data removed]",
            "text/plain": [
              "<Figure size 432x288 with 1 Axes>"
            ]
          },
          "metadata": {
            "needs_background": "light"
          }
        },
        {
          "output_type": "display_data",
          "data": {
            "image/png": "[encoded data removed]",
            "text/plain": [
              "<Figure size 432x288 with 1 Axes>"
            ]
          },
          "metadata": {
            "needs_background": "light"
          }
        },
        {
          "output_type": "stream",
          "name": "stdout",
          "text": [
            "Index(['label', 'pixel0', 'pixel1', 'pixel2', 'pixel3', 'pixel4', 'pixel5',\n",
            "       'pixel6', 'pixel7', 'pixel8',\n",
            "       ...\n",
            "       'pixel774', 'pixel775', 'pixel776', 'pixel777', 'pixel778', 'pixel779',\n",
            "       'pixel780', 'pixel781', 'pixel782', 'pixel783'],\n",
            "      dtype='object', length=785)\n"
          ]
        },
        {
          "output_type": "display_data",
          "data": {
            "image/png": "[encoded data removed]",
            "text/plain": [
              "<Figure size 432x288 with 1 Axes>"
            ]
          },
          "metadata": {
            "needs_background": "light"
          }
        }
      ]
    },
    {
      "cell_type": "markdown",
      "metadata": {
        "id": "Gs6CGnD2UBpi"
      },
      "source": [
        "This is just printing out the total length of the data."
      ]
    },
    {
      "cell_type": "code",
      "metadata": {
        "colab": {
          "base_uri": "https://localhost:8080/"
        },
        "id": "8kRcy96J1V5A",
        "outputId": "38e2f215-e78e-423b-9adc-e11f197c081c"
      },
      "source": [
        "len(data)"
      ],
      "execution_count": null,
      "outputs": [
        {
          "output_type": "execute_result",
          "data": {
            "text/plain": [
              "42000"
            ]
          },
          "metadata": {},
          "execution_count": 5
        }
      ]
    },
    {
      "cell_type": "markdown",
      "metadata": {
        "id": "nRWVDbtrUFfF"
      },
      "source": [
        "This is setting up the logistical regression function that will be used as it is 1000 iteration with the solver being saga. This was done to cut on some runtime during this lab. This will be fitted with every column and row except the label compared to the label for the fitting. "
      ]
    },
    {
      "cell_type": "code",
      "metadata": {
        "id": "nELTm0k46Rjx"
      },
      "source": [
        "clf1 = LogisticRegression(solver='saga', max_iter=1000)\n",
        "clf1.fit(data[:,1:], data[:, 0] )\n",
        "\n"
      ],
      "execution_count": null,
      "outputs": []
    },
    {
      "cell_type": "markdown",
      "metadata": {
        "id": "SsvKYoSNUn1E"
      },
      "source": [
        "The general runtime of the fitting was about 35 minutes. This next section is to bring in the data that will be tested on provided by kaggle and provide the general shape of it and predict from it. "
      ]
    },
    {
      "cell_type": "code",
      "metadata": {
        "colab": {
          "base_uri": "https://localhost:8080/"
        },
        "id": "BYUdxsBDL-BH",
        "outputId": "1cc43044-1b41-4c86-ad13-76f2f6284a78"
      },
      "source": [
        "mnistTest = pd.read_csv('drive/MyDrive/MnistTest.csv')\n",
        "test = mnistTest.values\n",
        "print(test.shape)\n",
        "predict = clf1.predict(test)\n"
      ],
      "execution_count": null,
      "outputs": [
        {
          "output_type": "stream",
          "name": "stdout",
          "text": [
            "(28000, 784)\n"
          ]
        }
      ]
    },
    {
      "cell_type": "markdown",
      "metadata": {
        "id": "v6aCHpWsU5ph"
      },
      "source": [
        "From here we will place our predicted label with an image id and put it into kaggle."
      ]
    },
    {
      "cell_type": "code",
      "metadata": {
        "colab": {
          "base_uri": "https://localhost:8080/"
        },
        "id": "wXkEgyqgNwqp",
        "outputId": "834fbf3c-3b9c-4762-f344-4213dab8e1c9"
      },
      "source": [
        "mnistTest.info()\n",
        "mnistTest.index.name='ImageId'\n",
        "\n",
        "mnistTest['label']=predict\n",
        "\n",
        "\n",
        "mnistTest.index +=1\n",
        "\n",
        "mnistTest.index\n",
        "mnistTest['label'].to_csv('drive/MyDrive/Mnistlogisticalonly.csv', index=True, header=True)"
      ],
      "execution_count": null,
      "outputs": [
        {
          "output_type": "stream",
          "name": "stdout",
          "text": [
            "<class 'pandas.core.frame.DataFrame'>\n",
            "RangeIndex: 28000 entries, 2 to 28001\n",
            "Columns: 785 entries, pixel0 to label\n",
            "dtypes: int64(785)\n",
            "memory usage: 167.7 MB\n"
          ]
        }
      ]
    },
    {
      "cell_type": "markdown",
      "metadata": {
        "id": "qQfNFNusYj9D"
      },
      "source": [
        "The score I got from this is 0.91110. Now I will do the same process of using the logistic regression, but with a multi layered perceptron."
      ]
    },
    {
      "cell_type": "code",
      "metadata": {
        "colab": {
          "base_uri": "https://localhost:8080/"
        },
        "id": "4zhL-DaNYc7p",
        "outputId": "e1896e71-30a7-41b4-dec6-87a9166d0ae1"
      },
      "source": [
        "classifier = MLPClassifier(solver=\"sgd\")\n",
        "classifier.hidden_layer_sizes = (40,) \n",
        "classifier.activation = \"logistic\"\n",
        "classifier.fit(data[:,1:], data[:, 0] )"
      ],
      "execution_count": null,
      "outputs": [
        {
          "output_type": "stream",
          "name": "stderr",
          "text": [
            "/usr/local/lib/python3.7/dist-packages/sklearn/neural_network/_multilayer_perceptron.py:696: ConvergenceWarning: Stochastic Optimizer: Maximum iterations (200) reached and the optimization hasn't converged yet.\n",
            "  ConvergenceWarning,\n"
          ]
        },
        {
          "output_type": "execute_result",
          "data": {
            "text/plain": [
              "MLPClassifier(activation='logistic', hidden_layer_sizes=(40,), solver='sgd')"
            ]
          },
          "metadata": {},
          "execution_count": 45
        }
      ]
    },
    {
      "cell_type": "markdown",
      "metadata": {
        "id": "UexOR6p_VGiF"
      },
      "source": [
        "Here it only took around 5 minutes to classify the data this could be done with the way it was running on multiple threads or the multiple nodes in the hidden layer"
      ]
    },
    {
      "cell_type": "code",
      "metadata": {
        "colab": {
          "base_uri": "https://localhost:8080/"
        },
        "id": "JKA4eh66aiTm",
        "outputId": "8ed31237-9ab4-44a7-8740-e80250d62d08"
      },
      "source": [
        "predict = classifier.predict(test)\n",
        "mnistTest.info()\n",
        "mnistTest.index.name='ImageId'\n",
        "\n",
        "mnistTest['label']=predict\n",
        "\n",
        "\n",
        "mnistTest.index +=1\n",
        "\n",
        "mnistTest.index\n",
        "mnistTest['label'].to_csv('drive/MyDrive/Mnistmlplogistical.csv', index=True, header=True)"
      ],
      "execution_count": null,
      "outputs": [
        {
          "output_type": "stream",
          "name": "stdout",
          "text": [
            "<class 'pandas.core.frame.DataFrame'>\n",
            "RangeIndex: 28000 entries, 0 to 27999\n",
            "Columns: 784 entries, pixel0 to pixel783\n",
            "dtypes: int64(784)\n",
            "memory usage: 167.5 MB\n"
          ]
        }
      ]
    },
    {
      "cell_type": "markdown",
      "metadata": {
        "id": "NC3b9wwAb-Q5"
      },
      "source": [
        "The score I got from kaggle was 0.94232 which is an improvement from the last score and is the best to run with. Something that I could have done it try to get rid of the whitespace in the image and focus more on the number of columns or try to do a dimensionality reduction on the columns and from this it wouldn't take as long to process the dataset."
      ]
    }
  ]
}