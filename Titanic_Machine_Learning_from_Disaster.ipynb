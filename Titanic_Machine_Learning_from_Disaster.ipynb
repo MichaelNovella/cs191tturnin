{
  "nbformat": 4,
  "nbformat_minor": 0,
  "metadata": {
    "colab": {
      "name": " Titanic - Machine Learning from Disaster ",
      "provenance": [],
      "collapsed_sections": [],
      "mount_file_id": "1z8omke5ehSpYUgfi5lUJSTXXGsuBBtzD",
      "authorship_tag": "ABX9TyPQKidijrzWgEpWM7Ag2qu6",
      "include_colab_link": true
    },
    "kernelspec": {
      "name": "python3",
      "display_name": "Python 3"
    },
    "language_info": {
      "name": "python"
    }
  },
  "cells": [
    {
      "cell_type": "markdown",
      "metadata": {
        "id": "view-in-github",
        "colab_type": "text"
      },
      "source": [
        "<a href=\"https://colab.research.google.com/github/MichaelNovella/cs191tturnin/blob/main/Titanic_Machine_Learning_from_Disaster.ipynb\" target=\"_parent\"><img src=\"https://colab.research.google.com/assets/colab-badge.svg\" alt=\"Open In Colab\"/></a>"
      ]
    },
    {
      "cell_type": "markdown",
      "metadata": {
        "id": "932V22FPMl5f"
      },
      "source": [
        "#Titanic dataset problem\n",
        "\n",
        "This is a program that will work with the Titanic dataset using logistic regression and multi layered perceptron. The first thing to do is call some libraries to work with the regression."
      ]
    },
    {
      "cell_type": "code",
      "metadata": {
        "id": "TgZzfAFAhyGp"
      },
      "source": [
        "import numpy as np\n",
        "import matplotlib.pyplot as plt\n",
        "\n",
        "import pandas as pd\n",
        "\n",
        "from sklearn.decomposition import PCA\n",
        "from sklearn import datasets\n",
        "\n",
        "from sklearn.linear_model import LogisticRegression\n",
        "from sklearn.neural_network import MLPClassifier\n",
        "from sklearn.metrics import accuracy_score"
      ],
      "execution_count": 1,
      "outputs": []
    },
    {
      "cell_type": "markdown",
      "metadata": {
        "id": "zZ8ZqvwFNDhq"
      },
      "source": [
        "This is to load in the dataset that we will load in and display what is inside of the dataset"
      ]
    },
    {
      "cell_type": "code",
      "metadata": {
        "colab": {
          "base_uri": "https://localhost:8080/"
        },
        "id": "RR9Nfkd-0KmJ",
        "outputId": "667614a5-2a3f-4ab3-e566-af26faa322ac"
      },
      "source": [
        "titanic = pd.read_csv('drive/MyDrive/TitanicTrain.csv')\n",
        "data = titanic.values\n",
        "print(data.shape)\n",
        "print (titanic.info())"
      ],
      "execution_count": 2,
      "outputs": [
        {
          "output_type": "stream",
          "name": "stdout",
          "text": [
            "(891, 12)\n",
            "<class 'pandas.core.frame.DataFrame'>\n",
            "RangeIndex: 891 entries, 0 to 890\n",
            "Data columns (total 12 columns):\n",
            " #   Column       Non-Null Count  Dtype  \n",
            "---  ------       --------------  -----  \n",
            " 0   PassengerId  891 non-null    int64  \n",
            " 1   Survived     891 non-null    int64  \n",
            " 2   Pclass       891 non-null    int64  \n",
            " 3   Name         891 non-null    object \n",
            " 4   Sex          891 non-null    object \n",
            " 5   Age          714 non-null    float64\n",
            " 6   SibSp        891 non-null    int64  \n",
            " 7   Parch        891 non-null    int64  \n",
            " 8   Ticket       891 non-null    object \n",
            " 9   Fare         891 non-null    float64\n",
            " 10  Cabin        204 non-null    object \n",
            " 11  Embarked     889 non-null    object \n",
            "dtypes: float64(2), int64(5), object(5)\n",
            "memory usage: 83.7+ KB\n",
            "None\n"
          ]
        }
      ]
    },
    {
      "cell_type": "markdown",
      "metadata": {
        "id": "voaj2-l1Nbvm"
      },
      "source": [
        "Inside of this dataset there are some values that weren't assigned and this will show which ones are not assigned at the moment."
      ]
    },
    {
      "cell_type": "code",
      "metadata": {
        "colab": {
          "base_uri": "https://localhost:8080/"
        },
        "id": "dmvIluTP1Zq-",
        "outputId": "51ac72fe-a644-4b43-b923-a8acf8133ae1"
      },
      "source": [
        "print(\"Missing Values: \")\n",
        "print(titanic.isnull().sum())"
      ],
      "execution_count": 3,
      "outputs": [
        {
          "output_type": "stream",
          "name": "stdout",
          "text": [
            "Missing Values: \n",
            "PassengerId      0\n",
            "Survived         0\n",
            "Pclass           0\n",
            "Name             0\n",
            "Sex              0\n",
            "Age            177\n",
            "SibSp            0\n",
            "Parch            0\n",
            "Ticket           0\n",
            "Fare             0\n",
            "Cabin          687\n",
            "Embarked         2\n",
            "dtype: int64\n"
          ]
        }
      ]
    },
    {
      "cell_type": "markdown",
      "metadata": {
        "id": "19wUcJJLNoNu"
      },
      "source": [
        "From these we need to find the median of the value columns that are missing, here we will show the average of age on a histogram."
      ]
    },
    {
      "cell_type": "code",
      "metadata": {
        "colab": {
          "base_uri": "https://localhost:8080/",
          "height": 279
        },
        "id": "xqVyYxz61x31",
        "outputId": "9b075612-d5a5-424a-c217-13176a2997c9"
      },
      "source": [
        "ax = titanic[\"Age\"].hist(bins=13, density=True, alpha=0.3)\n",
        "titanic[\"Age\"].plot(kind='density', color='red')\n",
        "ax.set(xlabel='Age')\n",
        "plt.xlim(-10,85)\n",
        "plt.show()"
      ],
      "execution_count": 4,
      "outputs": [
        {
          "output_type": "display_data",
          "data": {
            "image/png": "[encoded data removed]",
            "text/plain": [
              "<Figure size 432x288 with 1 Axes>"
            ]
          },
          "metadata": {
            "needs_background": "light"
          }
        }
      ]
    },
    {
      "cell_type": "markdown",
      "metadata": {
        "id": "KeKcCuDuNzic"
      },
      "source": [
        "Here we show the average of someone surviving the titanic on another histogram."
      ]
    },
    {
      "cell_type": "code",
      "metadata": {
        "colab": {
          "base_uri": "https://localhost:8080/",
          "height": 265
        },
        "id": "9iLmKoxa2DcI",
        "outputId": "5fb41e66-8c16-4b8b-d01f-c9091b1f77ca"
      },
      "source": [
        "ax = titanic[\"Survived\"].hist()\n",
        "\n",
        "plt.show()"
      ],
      "execution_count": 5,
      "outputs": [
        {
          "output_type": "display_data",
          "data": {
            "image/png": "[encoded data removed]",
            "text/plain": [
              "<Figure size 432x288 with 1 Axes>"
            ]
          },
          "metadata": {
            "needs_background": "light"
          }
        }
      ]
    },
    {
      "cell_type": "markdown",
      "metadata": {
        "id": "_QetIM2tN_Xh"
      },
      "source": [
        "Here we provide a copy of the data we will be using and fill in any mising information in the age and embarked columns."
      ]
    },
    {
      "cell_type": "code",
      "metadata": {
        "id": "E6Cij-cY2dDC"
      },
      "source": [
        "train_data = titanic.copy()\n",
        "train_data[\"Age\"].fillna(titanic[\"Age\"].median(skipna=True), inplace=True)\n",
        "train_data[\"Embarked\"].fillna(titanic['Embarked'].value_counts().idxmax(), inplace=True)"
      ],
      "execution_count": 6,
      "outputs": []
    },
    {
      "cell_type": "markdown",
      "metadata": {
        "id": "rOsJ9foOONO6"
      },
      "source": [
        "We can do the histogram again to show how this has effected the average age of the passanger."
      ]
    },
    {
      "cell_type": "code",
      "metadata": {
        "colab": {
          "base_uri": "https://localhost:8080/",
          "height": 279
        },
        "id": "tN0-jbuZ2pc5",
        "outputId": "a3c7a041-12f6-405b-d1ad-cc913968986c"
      },
      "source": [
        "ax = train_data[\"Age\"].hist(bins=13, density=True, alpha=0.3)\n",
        "train_data[\"Age\"].plot(kind='density', color='red')\n",
        "ax.set(xlabel='Age')\n",
        "plt.xlim(-10,85)\n",
        "plt.show()"
      ],
      "execution_count": 7,
      "outputs": [
        {
          "output_type": "display_data",
          "data": {
            "image/png": "[encoded data removed]",
            "text/plain": [
              "<Figure size 432x288 with 1 Axes>"
            ]
          },
          "metadata": {
            "needs_background": "light"
          }
        }
      ]
    },
    {
      "cell_type": "markdown",
      "metadata": {
        "id": "q6P0NXsIOVwv"
      },
      "source": [
        "There we are going to convert the embarked and sex columns to numerical values where sex is either 0 or 1 and the embark column is turned into three different columns that will have a one or a zero depending on which of the three catagories embark can be."
      ]
    },
    {
      "cell_type": "code",
      "metadata": {
        "colab": {
          "base_uri": "https://localhost:8080/"
        },
        "id": "vPOpa0Na4TAx",
        "outputId": "3b041fc7-8a0d-46e2-9509-74536697e957"
      },
      "source": [
        "train_data=train_data.fillna({'embarked' : 'S'})\n",
        "training=pd.get_dummies(train_data, columns=[\"Embarked\"])\n",
        "#training.Sex.map({\"male\":0, \"female\":1})\n",
        "training['Sex']=np.where(training['Sex'] == 'male',1,0)\n",
        "print(training.info())\n",
        "print(training.head())\n",
        "print(training['Sex'])"
      ],
      "execution_count": 8,
      "outputs": [
        {
          "output_type": "stream",
          "name": "stdout",
          "text": [
            "<class 'pandas.core.frame.DataFrame'>\n",
            "RangeIndex: 891 entries, 0 to 890\n",
            "Data columns (total 14 columns):\n",
            " #   Column       Non-Null Count  Dtype  \n",
            "---  ------       --------------  -----  \n",
            " 0   PassengerId  891 non-null    int64  \n",
            " 1   Survived     891 non-null    int64  \n",
            " 2   Pclass       891 non-null    int64  \n",
            " 3   Name         891 non-null    object \n",
            " 4   Sex          891 non-null    int64  \n",
            " 5   Age          891 non-null    float64\n",
            " 6   SibSp        891 non-null    int64  \n",
            " 7   Parch        891 non-null    int64  \n",
            " 8   Ticket       891 non-null    object \n",
            " 9   Fare         891 non-null    float64\n",
            " 10  Cabin        204 non-null    object \n",
            " 11  Embarked_C   891 non-null    uint8  \n",
            " 12  Embarked_Q   891 non-null    uint8  \n",
            " 13  Embarked_S   891 non-null    uint8  \n",
            "dtypes: float64(2), int64(6), object(3), uint8(3)\n",
            "memory usage: 79.3+ KB\n",
            "None\n",
            "   PassengerId  Survived  Pclass  ... Embarked_C  Embarked_Q  Embarked_S\n",
            "0            1         0       3  ...          0           0           1\n",
            "1            2         1       1  ...          1           0           0\n",
            "2            3         1       3  ...          0           0           1\n",
            "3            4         1       1  ...          0           0           1\n",
            "4            5         0       3  ...          0           0           1\n",
            "\n",
            "[5 rows x 14 columns]\n",
            "0      1\n",
            "1      0\n",
            "2      0\n",
            "3      0\n",
            "4      1\n",
            "      ..\n",
            "886    1\n",
            "887    0\n",
            "888    0\n",
            "889    1\n",
            "890    1\n",
            "Name: Sex, Length: 891, dtype: int64\n"
          ]
        }
      ]
    },
    {
      "cell_type": "markdown",
      "metadata": {
        "id": "o_2-vTpLO1jI"
      },
      "source": [
        "Here we look at what the tickets were and this will help determine which columns to drop."
      ]
    },
    {
      "cell_type": "code",
      "metadata": {
        "colab": {
          "base_uri": "https://localhost:8080/"
        },
        "id": "MEJk05K0657L",
        "outputId": "0b418545-a4d2-4372-8efc-1abd801e314d"
      },
      "source": [
        "print(training['Ticket'])"
      ],
      "execution_count": 9,
      "outputs": [
        {
          "output_type": "stream",
          "name": "stdout",
          "text": [
            "0             A/5 21171\n",
            "1              PC 17599\n",
            "2      STON/O2. 3101282\n",
            "3                113803\n",
            "4                373450\n",
            "             ...       \n",
            "886              211536\n",
            "887              112053\n",
            "888          W./C. 6607\n",
            "889              111369\n",
            "890              370376\n",
            "Name: Ticket, Length: 891, dtype: object\n"
          ]
        }
      ]
    },
    {
      "cell_type": "markdown",
      "metadata": {
        "id": "jYE-58eUO9pS"
      },
      "source": [
        "This is where we drop the passenger Id, if they survived, the name, ticket, cabin, because they seemed unnessicary for the given information and would be easier to work with purely numerical columns."
      ]
    },
    {
      "cell_type": "code",
      "metadata": {
        "colab": {
          "base_uri": "https://localhost:8080/"
        },
        "id": "pyyEIj2d8rVI",
        "outputId": "2ee4bcad-38f8-4feb-d636-3a95155dd199"
      },
      "source": [
        "training.drop(columns=['PassengerId','Survived', 'Name',  'Ticket',  'Cabin', 'PassengerId'], axis=1, inplace=True)\n",
        "print(training.info())\n",
        "print(training.head())"
      ],
      "execution_count": 10,
      "outputs": [
        {
          "output_type": "stream",
          "name": "stdout",
          "text": [
            "<class 'pandas.core.frame.DataFrame'>\n",
            "RangeIndex: 891 entries, 0 to 890\n",
            "Data columns (total 9 columns):\n",
            " #   Column      Non-Null Count  Dtype  \n",
            "---  ------      --------------  -----  \n",
            " 0   Pclass      891 non-null    int64  \n",
            " 1   Sex         891 non-null    int64  \n",
            " 2   Age         891 non-null    float64\n",
            " 3   SibSp       891 non-null    int64  \n",
            " 4   Parch       891 non-null    int64  \n",
            " 5   Fare        891 non-null    float64\n",
            " 6   Embarked_C  891 non-null    uint8  \n",
            " 7   Embarked_Q  891 non-null    uint8  \n",
            " 8   Embarked_S  891 non-null    uint8  \n",
            "dtypes: float64(2), int64(4), uint8(3)\n",
            "memory usage: 44.5 KB\n",
            "None\n",
            "   Pclass  Sex   Age  SibSp  Parch     Fare  Embarked_C  Embarked_Q  Embarked_S\n",
            "0       3    1  22.0      1      0   7.2500           0           0           1\n",
            "1       1    0  38.0      1      0  71.2833           1           0           0\n",
            "2       3    0  26.0      0      0   7.9250           0           0           1\n",
            "3       1    0  35.0      1      0  53.1000           0           0           1\n",
            "4       3    1  35.0      0      0   8.0500           0           0           1\n"
          ]
        }
      ]
    },
    {
      "cell_type": "markdown",
      "metadata": {
        "id": "64oUU0M3PTks"
      },
      "source": [
        "##Logistical\n",
        "This is where I initalize the logistical function that will be worked on filtered dataset. It will use the lbfgs solver and will take 10000 iterations that will loop over the formula $y= \\frac{1}{1+\\mathrm{e}^{-h(x)}}$ where $h(x) = F(W,X)= \\sum_{i=0}^n W_iX_i$. and this will be trained to fit the data and whether the person survived or not."
      ]
    },
    {
      "cell_type": "code",
      "metadata": {
        "colab": {
          "base_uri": "https://localhost:8080/"
        },
        "id": "NEiA0FGu9cER",
        "outputId": "4a019779-69e7-48fc-b215-73bbdd31f095"
      },
      "source": [
        "clf1 = LogisticRegression(solver='lbfgs',\n",
        "                        max_iter=10000)\n",
        "clf1.fit(training, titanic['Survived'] )"
      ],
      "execution_count": 11,
      "outputs": [
        {
          "output_type": "execute_result",
          "data": {
            "text/plain": [
              "LogisticRegression(max_iter=10000)"
            ]
          },
          "metadata": {},
          "execution_count": 11
        }
      ]
    },
    {
      "cell_type": "markdown",
      "metadata": {
        "id": "vFF-v-16P8f2"
      },
      "source": [
        "Here we test the predictor on the dataset we have already loaded and get an accuracy score from it."
      ]
    },
    {
      "cell_type": "code",
      "metadata": {
        "colab": {
          "base_uri": "https://localhost:8080/"
        },
        "id": "xrwYRgvY993x",
        "outputId": "6d765373-87ad-427c-a5cd-bdf4b4117bbf"
      },
      "source": [
        "test_data = titanic.copy()\n",
        "test_data[\"Age\"].fillna(titanic[\"Age\"].median(skipna=True), inplace=True)\n",
        "test_data.fillna({'embarked' : 'S'})\n",
        "test_data[\"Embarked\"].fillna(titanic['Embarked'].value_counts().idxmax(), inplace=True)\n",
        "testing=pd.get_dummies(test_data, columns=[\"Embarked\"])\n",
        "testing['Sex']=np.where(training['Sex'] == 'male',1,0)\n",
        "testing.drop(columns=['PassengerId','Survived', 'Name',  'Ticket',  'Cabin', 'PassengerId'], axis=1, inplace=True)\n",
        "prediction_rm=clf1.predict(testing)\n",
        "print('The accuracy of the logistic regression is',round(accuracy_score(prediction_rm,titanic['Survived'])*100,2))"
      ],
      "execution_count": 12,
      "outputs": [
        {
          "output_type": "stream",
          "name": "stdout",
          "text": [
            "The accuracy of the logistic regression is 46.13\n"
          ]
        }
      ]
    },
    {
      "cell_type": "markdown",
      "metadata": {
        "id": "8r9xQ8toQOax"
      },
      "source": [
        "From this accuracy score we will now use the test dataset provided by kaggle. We will clean it up until it is the same as the testing data we used to fit it."
      ]
    },
    {
      "cell_type": "code",
      "metadata": {
        "colab": {
          "base_uri": "https://localhost:8080/"
        },
        "id": "H_r-8_FkGu5e",
        "outputId": "06b8fbab-a7dc-4af9-a060-8bf9cca503a1"
      },
      "source": [
        "TitanicTest = pd.read_csv('drive/MyDrive/TitanicTest.csv')\n",
        "\n",
        "print(\"Missing Values: \")\n",
        "print(TitanicTest.isnull().sum())\n",
        "\n",
        "test_data = TitanicTest.copy()\n",
        "test_data[\"Age\"].fillna(titanic[\"Age\"].median(skipna=True), inplace=True)\n",
        "test_data[\"Fare\"].fillna(titanic[\"Fare\"].median(skipna=True), inplace=True)\n",
        "testing=pd.get_dummies(test_data, columns=[\"Embarked\"])\n",
        "testing['Sex']=np.where(TitanicTest['Sex'] == 'male',1,0)\n",
        "testing.drop(columns=['PassengerId',  'Name',   'Ticket', 'Cabin', 'PassengerId'], axis=1, inplace=True)\n",
        "print(testing.info())\n",
        "print(testing.head())\n",
        "\n",
        "\n",
        "print(\"Missing Values: \")\n",
        "print(testing.isnull().sum())"
      ],
      "execution_count": 36,
      "outputs": [
        {
          "output_type": "stream",
          "name": "stdout",
          "text": [
            "Missing Values: \n",
            "PassengerId      0\n",
            "Pclass           0\n",
            "Name             0\n",
            "Sex              0\n",
            "Age             86\n",
            "SibSp            0\n",
            "Parch            0\n",
            "Ticket           0\n",
            "Fare             1\n",
            "Cabin          327\n",
            "Embarked         0\n",
            "dtype: int64\n",
            "<class 'pandas.core.frame.DataFrame'>\n",
            "RangeIndex: 418 entries, 0 to 417\n",
            "Data columns (total 9 columns):\n",
            " #   Column      Non-Null Count  Dtype  \n",
            "---  ------      --------------  -----  \n",
            " 0   Pclass      418 non-null    int64  \n",
            " 1   Sex         418 non-null    int64  \n",
            " 2   Age         418 non-null    float64\n",
            " 3   SibSp       418 non-null    int64  \n",
            " 4   Parch       418 non-null    int64  \n",
            " 5   Fare        418 non-null    float64\n",
            " 6   Embarked_C  418 non-null    uint8  \n",
            " 7   Embarked_Q  418 non-null    uint8  \n",
            " 8   Embarked_S  418 non-null    uint8  \n",
            "dtypes: float64(2), int64(4), uint8(3)\n",
            "memory usage: 20.9 KB\n",
            "None\n",
            "   Pclass  Sex   Age  SibSp  Parch     Fare  Embarked_C  Embarked_Q  Embarked_S\n",
            "0       3    1  34.5      0      0   7.8292           0           1           0\n",
            "1       3    0  47.0      1      0   7.0000           0           0           1\n",
            "2       2    1  62.0      0      0   9.6875           0           1           0\n",
            "3       3    1  27.0      0      0   8.6625           0           0           1\n",
            "4       3    0  22.0      1      1  12.2875           0           0           1\n",
            "Missing Values: \n",
            "Pclass        0\n",
            "Sex           0\n",
            "Age           0\n",
            "SibSp         0\n",
            "Parch         0\n",
            "Fare          0\n",
            "Embarked_C    0\n",
            "Embarked_Q    0\n",
            "Embarked_S    0\n",
            "dtype: int64\n"
          ]
        }
      ]
    },
    {
      "cell_type": "markdown",
      "metadata": {
        "id": "ig87ihedQeYU"
      },
      "source": [
        "After cleaning it up we use our predict function to predict if the person is alive or if the person is dead. After that, we will put into a new csv file and test it on kaggle."
      ]
    },
    {
      "cell_type": "code",
      "metadata": {
        "id": "rF_1Yun2xqJA"
      },
      "source": [
        "predict = clf1.predict(testing)\n",
        "\n",
        "TitanicTest['Survived']=predict\n",
        "\n",
        "TitanicTest[['PassengerId','Survived']].to_csv('drive/MyDrive/Titaniclogisticonly.csv', index=False, header=True)\n",
        "\n"
      ],
      "execution_count": 37,
      "outputs": []
    },
    {
      "cell_type": "markdown",
      "metadata": {
        "id": "wrVM8DUN9ppJ"
      },
      "source": [
        "This gave a score of 0.76794 from kaggle. There could have been better improvements in the way of filtering data and to better use more of the dataset."
      ]
    },
    {
      "cell_type": "markdown",
      "metadata": {
        "id": "1JqaTfr8QxCx"
      },
      "source": [
        "##Multilayered perceptron MLP Classifier \n",
        "This is the mlp classifier that will be used for back propagation on the data. First we initialize the classifier with the solver being sgd and having 40 nodes in the hidden layer. Then we use the activation in the middle to be the same as before but with different weights converging to one solution. Since it is a classifier it will already give the y value as a 0 or 1."
      ]
    },
    {
      "cell_type": "code",
      "metadata": {
        "colab": {
          "base_uri": "https://localhost:8080/"
        },
        "id": "2KSFz-Hb9uYk",
        "outputId": "41a06a8f-4f58-4a3c-f6c2-be15d1ef4e9b"
      },
      "source": [
        "classifier = MLPClassifier(solver=\"sgd\")\n",
        "classifier.hidden_layer_sizes = (40,) \n",
        "classifier.activation = \"logistic\"\n",
        "classifier.fit(training, titanic['Survived'] )"
      ],
      "execution_count": 30,
      "outputs": [
        {
          "output_type": "execute_result",
          "data": {
            "text/plain": [
              "MLPClassifier(activation='logistic', hidden_layer_sizes=(40,), solver='sgd')"
            ]
          },
          "metadata": {},
          "execution_count": 30
        }
      ]
    },
    {
      "cell_type": "markdown",
      "metadata": {
        "id": "FbmA5wxPSNTi"
      },
      "source": [
        "Here we will do the same thing where we test with our own data to see accuracy."
      ]
    },
    {
      "cell_type": "code",
      "metadata": {
        "colab": {
          "base_uri": "https://localhost:8080/"
        },
        "id": "KTf0BJ4WBOm5",
        "outputId": "fe4e6297-15e0-48ad-a44a-2decb972f549"
      },
      "source": [
        "test_data = titanic.copy()\n",
        "test_data[\"Age\"].fillna(titanic[\"Age\"].median(skipna=True), inplace=True)\n",
        "test_data.fillna({'embarked' : 'S'})\n",
        "test_data[\"Embarked\"].fillna(titanic['Embarked'].value_counts().idxmax(), inplace=True)\n",
        "testing=pd.get_dummies(test_data, columns=[\"Embarked\"])\n",
        "testing['Sex']=np.where(training['Sex'] == 'male',1,0)\n",
        "testing.drop(columns=['PassengerId','Survived', 'Name',  'Ticket',  'Cabin', 'PassengerId'], axis=1, inplace=True)\n",
        "prediction_rm=clf1.predict(testing)\n",
        "print('The accuracy of the logistic regression is',round(accuracy_score(prediction_rm,titanic['Survived'])*100,2))"
      ],
      "execution_count": 34,
      "outputs": [
        {
          "output_type": "stream",
          "name": "stdout",
          "text": [
            "The accuracy of the logistic regression is 46.13\n"
          ]
        }
      ]
    },
    {
      "cell_type": "markdown",
      "metadata": {
        "id": "fJiHYaR4STkt"
      },
      "source": [
        "Here we clean it up to prepare it for predicting like the last one."
      ]
    },
    {
      "cell_type": "code",
      "metadata": {
        "colab": {
          "base_uri": "https://localhost:8080/"
        },
        "id": "mTom3PWcBosu",
        "outputId": "be7cf01a-d773-4704-e314-9edbd96245c0"
      },
      "source": [
        "TitanicTest = pd.read_csv('drive/MyDrive/TitanicTest.csv')\n",
        "\n",
        "print(\"Missing Values: \")\n",
        "print(TitanicTest.isnull().sum())\n",
        "\n",
        "test_data = TitanicTest.copy()\n",
        "test_data[\"Age\"].fillna(titanic[\"Age\"].median(skipna=True), inplace=True)\n",
        "test_data[\"Fare\"].fillna(titanic[\"Fare\"].median(skipna=True), inplace=True)\n",
        "testing=pd.get_dummies(test_data, columns=[\"Embarked\"])\n",
        "testing['Sex']=np.where(TitanicTest['Sex'] == 'male',1,0)\n",
        "testing.drop(columns=['PassengerId',  'Name',   'Ticket', 'Cabin', 'PassengerId'], axis=1, inplace=True)\n",
        "print(testing.info())\n",
        "print(testing.head())\n",
        "\n",
        "\n",
        "print(\"Missing Values: \")\n",
        "print(testing.isnull().sum())"
      ],
      "execution_count": 39,
      "outputs": [
        {
          "output_type": "stream",
          "name": "stdout",
          "text": [
            "Missing Values: \n",
            "PassengerId      0\n",
            "Pclass           0\n",
            "Name             0\n",
            "Sex              0\n",
            "Age             86\n",
            "SibSp            0\n",
            "Parch            0\n",
            "Ticket           0\n",
            "Fare             1\n",
            "Cabin          327\n",
            "Embarked         0\n",
            "dtype: int64\n",
            "<class 'pandas.core.frame.DataFrame'>\n",
            "RangeIndex: 418 entries, 0 to 417\n",
            "Data columns (total 9 columns):\n",
            " #   Column      Non-Null Count  Dtype  \n",
            "---  ------      --------------  -----  \n",
            " 0   Pclass      418 non-null    int64  \n",
            " 1   Sex         418 non-null    int64  \n",
            " 2   Age         418 non-null    float64\n",
            " 3   SibSp       418 non-null    int64  \n",
            " 4   Parch       418 non-null    int64  \n",
            " 5   Fare        418 non-null    float64\n",
            " 6   Embarked_C  418 non-null    uint8  \n",
            " 7   Embarked_Q  418 non-null    uint8  \n",
            " 8   Embarked_S  418 non-null    uint8  \n",
            "dtypes: float64(2), int64(4), uint8(3)\n",
            "memory usage: 20.9 KB\n",
            "None\n",
            "   Pclass  Sex   Age  SibSp  Parch     Fare  Embarked_C  Embarked_Q  Embarked_S\n",
            "0       3    1  34.5      0      0   7.8292           0           1           0\n",
            "1       3    0  47.0      1      0   7.0000           0           0           1\n",
            "2       2    1  62.0      0      0   9.6875           0           1           0\n",
            "3       3    1  27.0      0      0   8.6625           0           0           1\n",
            "4       3    0  22.0      1      1  12.2875           0           0           1\n",
            "Missing Values: \n",
            "Pclass        0\n",
            "Sex           0\n",
            "Age           0\n",
            "SibSp         0\n",
            "Parch         0\n",
            "Fare          0\n",
            "Embarked_C    0\n",
            "Embarked_Q    0\n",
            "Embarked_S    0\n",
            "dtype: int64\n"
          ]
        }
      ]
    },
    {
      "cell_type": "markdown",
      "metadata": {
        "id": "XtkdspgUSaOH"
      },
      "source": [
        "Here we predict, put our results into a csv file, and send it to kaggle for scoring."
      ]
    },
    {
      "cell_type": "code",
      "metadata": {
        "id": "AUmiltpzA49M"
      },
      "source": [
        "predict = classifier.predict(testing)\n",
        "\n",
        "TitanicTest['Survived']=predict\n",
        "\n",
        "TitanicTest[['PassengerId','Survived']].to_csv('drive/MyDrive/Titaniclogisticandmlp.csv', index=False, header=True)\n"
      ],
      "execution_count": 40,
      "outputs": []
    },
    {
      "cell_type": "markdown",
      "metadata": {
        "id": "xMNnxZr0Bz9U"
      },
      "source": [
        "This gave a worse score of 0.66028 from kaggle. This is interesting to come from something that should be a better form of recognition. This might also be the same problem as with the logistical version with more looking at other columns."
      ]
    }
  ]
}